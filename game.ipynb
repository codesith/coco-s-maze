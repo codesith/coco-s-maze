{
 "cells": [
  {
   "cell_type": "code",
   "execution_count": 1,
   "metadata": {},
   "outputs": [],
   "source": [
    "import pandas as pd\n",
    "import numpy as np\n",
    "import ipywidgets as widgets\n",
    "from ipywidgets import Layout, HTML\n",
    "from IPython.core.interactiveshell import InteractiveShell\n",
    "from ipyevents import Event\n",
    "import threading"
   ]
  },
  {
   "cell_type": "code",
   "execution_count": 2,
   "metadata": {},
   "outputs": [],
   "source": [
    "icons = [\"️️👧🏻\", \"️️🦩\", \"️️🦢\", \"️️🦘\", \"🏠\"]\n",
    "friends = []\n",
    "helperIcons = {\"A\":\"🚒\", \"B\":\"🛶\"}\n",
    "helpers = []\n",
    "obstacleIcons = {\"Z\":\"🔥\", \"Y\":\"🌊\"}\n",
    "obstacleToHelperMap = {\"🔥\":\"🚒\", \"🌊\":\"🛶\"}\n",
    "player = None\n",
    "df = None\n",
    "maze = None\n",
    "level = 1\n",
    "\n",
    "def backgroundColor(cell):\n",
    "    color = 'moccasin' if cell == \"️️👧🏻\" else 'white'\n",
    "    return 'background-color: %s' % color\n",
    "\n",
    "def initMaze(n):\n",
    "    global df, maze, player\n",
    "    df = pd.read_csv(\"./mazes/\"+str(n)+\".txt\", header=None)\n",
    "    m = df.to_numpy()\n",
    "    m[m == \"#\"] = \"️️🔲\"\n",
    "    for i in range(len(icons)):\n",
    "        m[m == str(i)] = icons[i]\n",
    "    for k in helperIcons:\n",
    "        m[m == k] = helperIcons[k]\n",
    "    for k in obstacleIcons:\n",
    "        m[m == k] = obstacleIcons[k]\n",
    "        \n",
    "    l = np.where(m == icons[0])\n",
    "    player = ({'icon':icons[0], 'location':(l[0][0], l[1][0])})\n",
    "    \n",
    "    maze = df.style.set_properties(**{'height': '50px', 'width':'50px', 'font-size':'50px', 'padding':'0px', \n",
    "                                      'margin':'0px', 'line-height':'1'}).applymap(backgroundColor)\n",
    "\n"
   ]
  },
  {
   "cell_type": "code",
   "execution_count": 3,
   "metadata": {},
   "outputs": [],
   "source": [
    "def getCurrentStatus():\n",
    "    status = \"<span style='font-size: 40px;'>Friends: \" + \" \".join(friends) + \"</span>\"\n",
    "    if len(helpers) > 0 :\n",
    "        status += \"<br/><span style='font-size: 40px;'>Helpers: \" + \" \".join(helpers) + \"</span>\"\n",
    "    return status"
   ]
  },
  {
   "cell_type": "code",
   "execution_count": 4,
   "metadata": {},
   "outputs": [],
   "source": [
    "output = widgets.Output()\n",
    "board = widgets.HBox([output], layout=Layout())\n",
    "restartButton = widgets.Button(description='Restart',button_style='danger')\n",
    "levelMenu = widgets.Dropdown(\n",
    "       options=list(range(1,5)),\n",
    "       value=1,\n",
    "       description='Level: ')\n",
    "status = None\n",
    "\n",
    "def refreshMaze():\n",
    "    output.clear_output(wait=True)\n",
    "    with output:\n",
    "        display(maze)\n",
    "        \n",
    "def displayMaze():\n",
    "    global status\n",
    "    status = HTML(getCurrentStatus())\n",
    "    display(restartButton, levelMenu, board, status)\n",
    "    refreshMaze()"
   ]
  },
  {
   "cell_type": "code",
   "execution_count": 5,
   "metadata": {},
   "outputs": [],
   "source": [
    "autoMoveSpeed = 0.5\n",
    "autoMoveTimer = None\n",
    "def autoMove(key):\n",
    "    global autoMoveTimer\n",
    "    autoMoveTimer = threading.Timer(autoMoveSpeed, move, [key])\n",
    "    autoMoveTimer.start()"
   ]
  },
  {
   "cell_type": "code",
   "execution_count": 6,
   "metadata": {},
   "outputs": [],
   "source": [
    "def move(key):\n",
    "    global chars, status, friends, helpers\n",
    "    if autoMoveTimer:\n",
    "        autoMoveTimer.cancel()\n",
    "    nl = None\n",
    "    if key == \"ArrowDown\":\n",
    "        nl = (player['location'][0]+1, player['location'][1])\n",
    "    elif key == \"ArrowLeft\":\n",
    "        nl = (player['location'][0], player['location'][1]-1)\n",
    "    elif key == \"ArrowRight\":\n",
    "        nl = (player['location'][0], player['location'][1]+1)\n",
    "    elif key == \"ArrowUp\":\n",
    "        nl = (player['location'][0]-1, player['location'][1])\n",
    "    \n",
    "    if nl[0] >= 0 and nl[0] < df.shape[0] and nl[1] >= 0 and nl[1] < df.shape[1]:\n",
    "        if df.iloc[nl] == '️️🔲' or df.iloc[nl] == '🏠':\n",
    "            if autoMoveTimer:\n",
    "                autoMoveTimer.cancel()\n",
    "            if df.iloc[nl] == '🏠' and len(friends) == len(icons)-2:\n",
    "                status.value = \"<span style='color:green; font-size: 40px;'>You Are Home!</span>\"\n",
    "            return\n",
    "        updateStatus = False\n",
    "        if df.iloc[nl] in icons and not df.iloc[nl] == icons[-1]:\n",
    "            # Collect a friend\n",
    "            if not df.iloc[nl] in friends:\n",
    "                friends.append(df.iloc[nl])\n",
    "                updateStatus = True\n",
    "        elif df.iloc[nl] in helperIcons.values():\n",
    "            # Collect a helper\n",
    "            if not df.iloc[nl] in helpers:\n",
    "                helpers.append(df.iloc[nl])\n",
    "                updateStatus = True\n",
    "        elif df.iloc[nl] in obstacleIcons.values():\n",
    "            # Encounter an obstacles\n",
    "            h = obstacleToHelperMap[df.iloc[nl]]\n",
    "            if not h in helpers:\n",
    "                if autoMoveTimer:\n",
    "                    autoMoveTimer.cancel()\n",
    "                status.value = \"<span style='color:red; font-size: 40px;'>Game Over!</span>\"\n",
    "                boardEvent.on_dom_event(None)\n",
    "                return\n",
    "        df.iloc[player['location'] ] = \" \"\n",
    "        df.iloc[nl] = player['icon']\n",
    "        player['location'] = nl\n",
    "        refreshMaze()\n",
    "        status.value = getCurrentStatus()\n",
    "        autoMove(key)"
   ]
  },
  {
   "cell_type": "code",
   "execution_count": 7,
   "metadata": {},
   "outputs": [],
   "source": [
    "# Listen to keyboard events\n",
    "boardEvent = Event(source=output, watched_events=['keydown'])\n",
    "def handleEvent(event):\n",
    "    if event['code'] in ['ArrowDown', 'ArrowUp', 'ArrowLeft', 'ArrowRight']:\n",
    "        move(event['code'])"
   ]
  },
  {
   "cell_type": "code",
   "execution_count": 8,
   "metadata": {},
   "outputs": [],
   "source": [
    "def restartGame(_):\n",
    "    global friends, level, helpers\n",
    "    if autoMoveTimer:\n",
    "        autoMoveTimer.cancel()\n",
    "    level = levelMenu.value\n",
    "    initMaze(level)\n",
    "    friends = []\n",
    "    helpers = []\n",
    "    status.value = getCurrentStatus()\n",
    "    refreshMaze()\n",
    "    boardEvent.on_dom_event(handleEvent)\n",
    "restartButton.on_click(restartGame)"
   ]
  },
  {
   "cell_type": "code",
   "execution_count": 9,
   "metadata": {},
   "outputs": [],
   "source": [
    "def startGame():\n",
    "    initMaze(level)\n",
    "    displayMaze()\n",
    "    boardEvent.on_dom_event(handleEvent)"
   ]
  },
  {
   "cell_type": "code",
   "execution_count": 10,
   "metadata": {},
   "outputs": [
    {
     "data": {
      "application/vnd.jupyter.widget-view+json": {
       "model_id": "4064efea61224e8da41988cced67365e",
       "version_major": 2,
       "version_minor": 0
      },
      "text/plain": [
       "Button(button_style='danger', description='Restart', style=ButtonStyle())"
      ]
     },
     "metadata": {},
     "output_type": "display_data"
    },
    {
     "data": {
      "application/vnd.jupyter.widget-view+json": {
       "model_id": "c7bc0a0b1b6b44c18381949b56b97a31",
       "version_major": 2,
       "version_minor": 0
      },
      "text/plain": [
       "Dropdown(description='Level: ', options=(1, 2, 3, 4), value=1)"
      ]
     },
     "metadata": {},
     "output_type": "display_data"
    },
    {
     "data": {
      "application/vnd.jupyter.widget-view+json": {
       "model_id": "3965c8011ca149608b254e49bff7611d",
       "version_major": 2,
       "version_minor": 0
      },
      "text/plain": [
       "HBox(children=(Output(),))"
      ]
     },
     "metadata": {},
     "output_type": "display_data"
    },
    {
     "data": {
      "application/vnd.jupyter.widget-view+json": {
       "model_id": "f33006ad3e1247a7b10f58cdcbd3812b",
       "version_major": 2,
       "version_minor": 0
      },
      "text/plain": [
       "HTML(value=\"<span style='font-size: 40px;'>Friends: </span>\")"
      ]
     },
     "metadata": {},
     "output_type": "display_data"
    }
   ],
   "source": [
    "startGame()"
   ]
  },
  {
   "cell_type": "code",
   "execution_count": null,
   "metadata": {},
   "outputs": [],
   "source": []
  },
  {
   "cell_type": "code",
   "execution_count": null,
   "metadata": {},
   "outputs": [],
   "source": []
  }
 ],
 "metadata": {
  "kernelspec": {
   "display_name": "Python 3",
   "language": "python",
   "name": "python3"
  },
  "language_info": {
   "codemirror_mode": {
    "name": "ipython",
    "version": 3
   },
   "file_extension": ".py",
   "mimetype": "text/x-python",
   "name": "python",
   "nbconvert_exporter": "python",
   "pygments_lexer": "ipython3",
   "version": "3.8.1"
  }
 },
 "nbformat": 4,
 "nbformat_minor": 4
}
